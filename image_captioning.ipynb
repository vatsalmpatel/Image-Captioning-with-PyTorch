{
  "nbformat": 4,
  "nbformat_minor": 0,
  "metadata": {
    "colab": {
      "provenance": [],
      "collapsed_sections": [],
      "authorship_tag": "ABX9TyMVS1M/UxlNmrBZ8avEg+jD"
    },
    "kernelspec": {
      "name": "python3",
      "display_name": "Python 3"
    },
    "language_info": {
      "name": "python"
    },
    "accelerator": "GPU"
  },
  "cells": [
    {
      "cell_type": "markdown",
      "source": [
        "## Imports"
      ],
      "metadata": {
        "id": "0x4YilYau0fO"
      }
    },
    {
      "cell_type": "code",
      "source": [],
      "metadata": {
        "id": "BtWuDNZFuz9K"
      },
      "execution_count": null,
      "outputs": []
    },
    {
      "cell_type": "code",
      "source": [],
      "metadata": {
        "id": "A66NdVnWuWCv"
      },
      "execution_count": null,
      "outputs": []
    }
  ]
}